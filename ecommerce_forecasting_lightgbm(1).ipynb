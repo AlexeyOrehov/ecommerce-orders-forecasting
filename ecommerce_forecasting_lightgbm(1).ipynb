{
  "cells": [
    {
      "cell_type": "code",
      "execution_count": null,
      "metadata": {},
      "outputs": [],
      "source": [
        "# Импорты\n",
        "import pandas as pd\n",
        "import numpy as np\n",
        "import matplotlib.pyplot as plt\n",
        "import seaborn as sns"
      ]
    },
    {
      "cell_type": "code",
      "execution_count": null,
      "metadata": {},
      "outputs": [],
      "source": [
        "# Загрузка данных\n",
        "df = pd.read_csv('ecommerce_data.csv')\n",
        "df['date'] = pd.to_datetime(df['date'])\n",
        "df.isnull().sum()"
      ]
    },
    {
      "cell_type": "code",
      "execution_count": null,
      "metadata": {},
      "outputs": [],
      "source": [
        "# Агрегация по дням\n",
        "data_orders = df.groupby('date')['orders'].sum().reset_index()"
      ]
    },
    {
      "cell_type": "code",
      "execution_count": null,
      "metadata": {},
      "outputs": [],
      "source": [
        "# Фичи из даты\n",
        "data_orders['dayofweek'] = data_orders['date'].dt.dayofweek\n",
        "data_orders['day'] = data_orders['date'].dt.day\n",
        "data_orders['month'] = data_orders['date'].dt.month\n",
        "data_orders['is_weekend'] = data_orders['dayofweek'].isin([5,6]).astype(int)"
      ]
    },
    {
      "cell_type": "code",
      "execution_count": null,
      "metadata": {},
      "outputs": [],
      "source": [
        "# Лаги и скользящие\n",
        "for lag in [1,7,14]:\n",
        "    data_orders[f'lag_{lag}'] = data_orders['orders'].shift(lag)\n",
        "for win in [3,7,14]:\n",
        "    data_orders[f'rolling_mean_{win}'] = data_orders['orders'].shift(1).rolling(window=win).mean()"
      ]
    },
    {
      "cell_type": "code",
      "execution_count": null,
      "metadata": {},
      "outputs": [],
      "source": [
        "# Добавление признаков начала/конца месяца\n",
        "data_orders['is_month_start'] = data_orders['date'].dt.is_month_start.astype(int)\n",
        "data_orders['is_month_end'] = data_orders['date'].dt.is_month_end.astype(int)"
      ]
    },
    {
      "cell_type": "code",
      "execution_count": null,
      "metadata": {},
      "outputs": [],
      "source": [
        "# Предобработка\n",
        "data_orders = data_orders.dropna().copy()\n",
        "data_orders['log_orders'] = np.log1p(data_orders['orders'])"
      ]
    },
    {
      "cell_type": "code",
      "execution_count": null,
      "metadata": {},
      "outputs": [],
      "source": [
        "# Разделение на train/test\n",
        "split_date = data_orders['date'].max() - pd.Timedelta(days=30)\n",
        "train = data_orders[data_orders['date'] < split_date]\n",
        "test = data_orders[data_orders['date'] >= split_date]"
      ]
    },
    {
      "cell_type": "code",
      "execution_count": null,
      "metadata": {},
      "outputs": [],
      "source": [
        "# LightGBM обучение\n",
        "from lightgbm import LGBMRegressor\n",
        "features = [col for col in data_orders.columns if col not in ['date', 'orders', 'log_orders']]\n",
        "X_train, y_train = train[features], train['log_orders']\n",
        "X_test, y_test = test[features], test['log_orders']\n",
        "model = LGBMRegressor(n_estimators=1000, learning_rate=0.1)\n",
        "model.fit(X_train, y_train)"
      ]
    },
    {
      "cell_type": "code",
      "execution_count": null,
      "metadata": {},
      "outputs": [],
      "source": [
        "# Предсказание и обратное преобразование\n",
        "y_pred = model.predict(X_test)\n",
        "y_pred = np.expm1(y_pred)\n",
        "y_test = np.expm1(y_test)"
      ]
    },
    {
      "cell_type": "code",
      "execution_count": null,
      "metadata": {},
      "outputs": [],
      "source": [
        "# MAPE и визуализация\n",
        "mape = np.mean(np.abs((y_test - y_pred) / y_test))\n",
        "print(f'MAPE модели LightGBM: {mape:.2%}')\n",
        "\n",
        "plt.figure(figsize=(14,4))\n",
        "plt.plot(test['date'], y_test, label='Факт')\n",
        "plt.plot(test['date'], y_pred, label='Прогноз')\n",
        "plt.legend()\n",
        "plt.grid(True)\n",
        "plt.title('LightGBM: прогноз vs факт')\n",
        "plt.tight_layout()\n",
        "plt.show()"
      ]
    }
  ],
  "metadata": {
    "kernelspec": {
      "display_name": "Python 3",
      "language": "python",
      "name": "python3"
    },
    "language_info": {
      "name": "python",
      "version": "3.10"
    }
  },
  "nbformat": 4,
  "nbformat_minor": 5
}