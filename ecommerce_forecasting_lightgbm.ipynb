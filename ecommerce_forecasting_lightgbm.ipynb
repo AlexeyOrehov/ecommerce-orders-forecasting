
{
 "cells": [
  {
   "cell_type": "markdown",
   "metadata": {},
   "source": [
    "# Forecasting E-Commerce Daily Orders using LightGBM\n",
    "\n",
    "Project for predicting the number of daily orders based on time-series features."
   ]
  },
  {
   "cell_type": "code",
   "execution_count": null,
   "metadata": {},
   "outputs": [],
   "source": [
    "# Импорт библиотек\n",
    "import pandas as pd\n",
    "import numpy as np\n",
    "import matplotlib.pyplot as plt\n",
    "import seaborn as sns\n",
    "from lightgbm import LGBMRegressor\n",
    "from sklearn.model_selection import TimeSeriesSplit\n",
    "from sklearn.metrics import mean_absolute_percentage_error"
   ]
  },
  {
   "cell_type": "code",
   "execution_count": null,
   "metadata": {},
   "outputs": [],
   "source": [
    "# Загрузка данных\n",
    "df = pd.read_csv('ecommerce_data.csv')\n",
    "df['date'] = pd.to_datetime(df['date'])"
   ]
  },
  {
   "cell_type": "code",
   "execution_count": null,
   "metadata": {},
   "outputs": [],
   "source": [
    "# Агрегация по дате\n",
    "df = df.groupby('date')['orders'].sum().reset_index()"
   ]
  },
  {
   "cell_type": "code",
   "execution_count": null,
   "metadata": {},
   "outputs": [],
   "source": [
    "# Feature engineering\n",
    "df['day'] = df['date'].dt.day\n",
    "df['month'] = df['date'].dt.month\n",
    "df['dayofweek'] = df['date'].dt.dayofweek\n",
    "df['is_weekend'] = df['dayofweek'].isin([5, 6]).astype(int)\n",
    "df['is_month_start'] = df['date'].dt.is_month_start.astype(int)\n",
    "df['is_month_end'] = df['date'].dt.is_month_end.astype(int)\n",
    "\n",
    "df['lag_1'] = df['orders'].shift(1)\n",
    "df['lag_7'] = df['orders'].shift(7)\n",
    "df['lag_14'] = df['orders'].shift(14)\n",
    "\n",
    "df['rolling_mean_3'] = df['orders'].shift(1).rolling(window=3).mean()\n",
    "df['rolling_mean_7'] = df['orders'].shift(1).rolling(window=7).mean()\n",
    "df['rolling_mean_14'] = df['orders'].shift(1).rolling(window=14).mean()\n",
    "\n",
    "df = df.dropna().copy()"
   ]
  },
  {
   "cell_type": "code",
   "execution_count": null,
   "metadata": {},
   "outputs": [],
   "source": [
    "# Разделение на train/test\n",
    "split_date = df['date'].max() - pd.Timedelta(days=30)\n",
    "train = df[df['date'] < split_date]\n",
    "test = df[df['date'] >= split_date]\n",
    "\n",
    "# Логарифмирование\n",
    "train['orders_log'] = np.log1p(train['orders'])\n",
    "test['orders_log'] = np.log1p(test['orders'])\n",
    "\n",
    "features = [\n",
    "    'day', 'month', 'dayofweek', 'is_weekend', 'is_month_start', 'is_month_end',\n",
    "    'lag_1', 'lag_7', 'lag_14',\n",
    "    'rolling_mean_3', 'rolling_mean_7', 'rolling_mean_14'\n",
    "]\n",
    "X_train = train[features]\n",
    "y_train = train['orders_log']\n",
    "X_test = test[features]\n",
    "y_test = test['orders']"
   ]
  },
  {
   "cell_type": "code",
   "execution_count": null,
   "metadata": {},
   "outputs": [],
   "source": [
    "# Обучение модели\n",
    "model = LGBMRegressor(n_estimators=1000, learning_rate=0.1)\n",
    "model.fit(X_train, y_train)\n",
    "y_pred_log = model.predict(X_test)\n",
    "y_pred = np.expm1(y_pred_log)"
   ]
  },
  {
   "cell_type": "code",
   "execution_count": null,
   "metadata": {},
   "outputs": [],
   "source": [
    "# Оценка\n",
    "mape = np.mean(np.abs((y_test - y_pred) / y_test))\n",
    "print(f"MAPE модели LightGBM: {mape:.2%}")"
   ]
  }
 ],
 "metadata": {
  "kernelspec": {
   "display_name": "Python 3",
   "language": "python",
   "name": "python3"
  },
  "language_info": {
   "name": "python",
   "version": "3.8"
  }
 },
 "nbformat": 4,
 "nbformat_minor": 5
}
